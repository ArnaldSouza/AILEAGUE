{
 "cells": [
  {
   "attachments": {},
   "cell_type": "markdown",
   "metadata": {},
   "source": [
    "# <center>Centro Universitário Facens<br/></center>\n",
    "<center>\n",
    "<img src=\"https://lh3.googleusercontent.com/drive-viewer/AFGJ81rTBegXzqUppVw-HHDYrI2X0P-_l0R8yPQ-rlIgkN8cepJyKvg__nR-q0ursQEKCVmElCercUDDEN6eoc600E1O93Pa=s2560\"> \n",
    "</center>\n",
    "  \n",
    "<font size=\"3\"><center>Prof. Renato Moraes Silva</center></font>\n",
    "<br/>"
   ]
  },
  {
   "attachments": {},
   "cell_type": "markdown",
   "metadata": {},
   "source": [
    "# <center>Introdução ao Python</center>\n",
    "\n",
    "Neste tutorial, são apresentados alguns recursos básicos do Python que geralmente são necessários nos projetos de Ciência de Dados. \n",
    "\n",
    "Para isso, estamos usando um notebook, onde é possível adicionar blocos de texto e código. Os blocos de texto podem ser adicionados usando *markdown*, HTML e LaTeX. Por exemplo, abaixo foi criada uma equação em LaTeX:   \n",
    "\n",
    "$$ \\sum_{i=1}^{n} x_i - y_i^2 $$"
   ]
  },
  {
   "attachments": {},
   "cell_type": "markdown",
   "metadata": {},
   "source": [
    "# Variáveis\n",
    "\n",
    "No Python, não é preciso **declarar** as variáveis.\n",
    "\n",
    "Os tipos básicos de variáveis são:\n",
    "- int: números inteiros\n",
    "- float: números reais\n",
    "- str: textos\n",
    "\n",
    "Para converter um tipo de variável para outro, pode-se usar as funções: **float**, **str** ou **int**. \n",
    "\n",
    "Para imprimir uma variável, basta usar **print (nome_variavel)** ou **display(nome_variavel)**. A segunda opção geralmente apresenta a impressão de uma maneira mais agradável visualmente. "
   ]
  },
  {
   "cell_type": "code",
   "execution_count": 1,
   "metadata": {},
   "outputs": [
    {
     "name": "stdout",
     "output_type": "stream",
     "text": [
      "20\n",
      "200\n",
      "Arnald\n",
      "3514.73\n"
     ]
    },
    {
     "data": {
      "text/plain": [
       "3514.73"
      ]
     },
     "metadata": {},
     "output_type": "display_data"
    },
    {
     "name": "stdout",
     "output_type": "stream",
     "text": [
      "20\n",
      "<class 'int'>\n",
      "<class 'str'>\n",
      "<class 'str'>\n",
      "<class 'float'>\n"
     ]
    },
    {
     "data": {
      "text/plain": [
       "int"
      ]
     },
     "metadata": {},
     "output_type": "display_data"
    }
   ],
   "source": [
    "nome = \"Arnald\"\n",
    "idade =  20\n",
    "salario = 3514.73\n",
    "\n",
    "salario2 = \"20\"\n",
    "\n",
    "#converte para int \n",
    "salario2 = int(salario2)\n",
    "\n",
    "#converte para string\n",
    "valor = 200\n",
    "valor = str(valor)\n",
    "\n",
    "print(idade)\n",
    "print(valor)\n",
    "print(nome)\n",
    "print(salario)\n",
    "display(salario)\n",
    "print(salario2)\n",
    "\n",
    "#imprime o tipo da variável \n",
    "print(type(idade))\n",
    "print(type(valor))\n",
    "print(type(nome))\n",
    "print(type(salario))\n",
    "display(type(salario2))"
   ]
  },
  {
   "attachments": {},
   "cell_type": "markdown",
   "metadata": {},
   "source": [
    "# Bibliotecas\n",
    "\n",
    "O Python possui inúmeras bibliotecas disponibilizadas na distribuição padrão e também pela comunidade. Quando uma biblioteca não está disponível na distribuição padrão do Python, geralmente para instalá-la deve-se usar o comando: **pip install nomeDaBiblioteca\". \n",
    "\n",
    "Para importar um biblioteca que já esteja instalada, pode-se usar: ```import nomeDaBibioteca as apelido```\n",
    "\n",
    "### Matplotlib e Numpy\n",
    "\n",
    "A biblioteca **matplotlib** é usada para plotar gráficos. Para usá-la, geralmente é feita a importação usando: ```import matplotlib.pyplot as plt```. \n",
    "\n",
    "A biblioteca **numpy** do python permite a criação, manipulações e operações matemáticas de vetores e matrizes.\n",
    "\n",
    "### Criando vetores e matrizes\n",
    "\n",
    "Criando um vetor com os seguintes valores $[0,1,4,9,16,25,36,49,64]$."
   ]
  },
  {
   "cell_type": "code",
   "execution_count": 2,
   "metadata": {},
   "outputs": [
    {
     "name": "stdout",
     "output_type": "stream",
     "text": [
      "[ 0  1  4  9 16 25 36 49 64]\n"
     ]
    },
    {
     "data": {
      "text/plain": [
       "array([ 0,  1,  4,  9, 16, 25, 36, 49, 64])"
      ]
     },
     "metadata": {},
     "output_type": "display_data"
    },
    {
     "data": {
      "text/plain": [
       "<function matplotlib.pyplot.show(close=None, block=None)>"
      ]
     },
     "execution_count": 2,
     "metadata": {},
     "output_type": "execute_result"
    },
    {
     "data": {
      "image/png": "[encoded data removed]",
      "text/plain": [
       "<Figure size 640x480 with 1 Axes>"
      ]
     },
     "metadata": {},
     "output_type": "display_data"
    }
   ],
   "source": [
    "import numpy as np #importa a bibliote numpy que trabalha com vetores e matrizes\n",
    "import matplotlib.pyplot as plt\n",
    "\n",
    "#criando um vetor\n",
    "vetor1 = np.array([0,1,4,9,16,25,36,49,64])\n",
    "\n",
    "#imprimir usando a função print ou display\n",
    "print(vetor1)\n",
    "display(vetor1)\n",
    "\n",
    "#mostrando de forma gráfica , usando a função plot do matplotlib\n",
    "plt.plot(vetor1)\n",
    "plt.show\n"
   ]
  },
  {
   "attachments": {},
   "cell_type": "markdown",
   "metadata": {},
   "source": [
    "Criando uma matriz com os valores: $\n",
    "  \\begin{bmatrix}\n",
    "    0 & 0 & 0 & 0 & 0\\\\\n",
    "    0 & 250 & 0 & 255 & 0\\\\\n",
    "    0 & 0 & 0 & 0 & 0\\\\\n",
    "    0 & 255 & 240 & 245 & 0\\\\\n",
    "    0 & 0 & 0 & 0 & 0 \\\\\n",
    "  \\end{bmatrix}$"
   ]
  },
  {
   "cell_type": "code",
   "execution_count": 3,
   "metadata": {},
   "outputs": [
    {
     "data": {
      "text/plain": [
       "array([[  0,   0,   0,   0,   0],\n",
       "       [  0, 250,   0, 255,   0],\n",
       "       [  0,   0,   0,   0,   0],\n",
       "       [  0, 100, 100, 100,   0],\n",
       "       [  0,   0,   0,   0,   0]])"
      ]
     },
     "metadata": {},
     "output_type": "display_data"
    },
    {
     "data": {
      "image/png": "[encoded data removed]",
      "text/plain": [
       "<Figure size 640x480 with 1 Axes>"
      ]
     },
     "metadata": {},
     "output_type": "display_data"
    }
   ],
   "source": [
    "#cria uma matriz\n",
    "A = np.array([[0,0,0,0,0],\n",
    "              [0,250,0,255,0],\n",
    "              [0,0,0,0,0],\n",
    "              [0,100,100,100,0],                \n",
    "              [0,0,0,0,0]\n",
    "])\n",
    "\n",
    "display(A)\n",
    "\n",
    "#plota a imagem da matriz \n",
    "plt.imshow(A, \"gray\")\n",
    "plt.show()"
   ]
  },
  {
   "attachments": {},
   "cell_type": "markdown",
   "metadata": {},
   "source": [
    "## Selecionando elementos de vetores e matrizes\n",
    "\n",
    "\n",
    "Suponha que temos um vetor $[a,b,c,d,e,f,g,h,i]$. Nós podemos selecionar vários subconjuntos de elementos desse vetor, como: \n",
    "\n",
    "- três primeiros elementos\n",
    "- todos os valores após o quinto elemento\n",
    "- os três ultimos valores\n",
    "- os valores entre o quinta elemento até o penúltimo elemento\n",
    "\n",
    "**Observação**: no python, o índice começa a contar em 0."
   ]
  },
  {
   "cell_type": "code",
   "execution_count": 4,
   "metadata": {},
   "outputs": [
    {
     "name": "stdout",
     "output_type": "stream",
     "text": [
      "Três primeiros elementos de A: \n",
      "['a' 'b' 'c']\n",
      "\n",
      " Todos elementos após o quinto elemento\n",
      "['f' 'g' 'h' 'i']\n",
      "\n",
      " Os três últimos valores do vetor:\n",
      "['g' 'h' 'i']\n",
      "\n",
      " Os valores do quinto alemento até o penúltimo\n",
      "['e' 'f' 'g'] ou ['e' 'f' 'g']\n"
     ]
    }
   ],
   "source": [
    "#criando um vetor\n",
    "vetA = np.array(['a','b','c','d','e','f','g','h','i'])\n",
    "\n",
    "print(\"Três primeiros elementos de A: \")\n",
    "print(vetA[0:3])\n",
    "\n",
    "print(\"\\n Todos elementos após o quinto elemento\")\n",
    "print(vetA[5:])\n",
    "\n",
    "print(\"\\n Os três últimos valores do vetor:\")\n",
    "print(vetA[-3:])\n",
    "\n",
    "print(\"\\n Os valores do quinto alemento até o penúltimo\")\n",
    "print(vetA[4:-2], \"ou\", vetA[4:7])"
   ]
  },
  {
   "attachments": {},
   "cell_type": "markdown",
   "metadata": {},
   "source": [
    "Suponha que temos um array: $\\begin{bmatrix}\n",
    "    1a & 1b & 1c & 1d & 1e & 1f & 1g & 1h & 1i \\\\\n",
    "    2a & 2b & 2c & 2d & 2e & 2f & 2g & 2h & 2i \\\\\n",
    "    3a & 3b & 3c & 3d & 3e & 3f & 3g & 3h & 3i \\\\\n",
    "    4a & 4b & 4c & 4d & 4e & 4f & 4g & 4h & 4i \\\\\n",
    "  \\end{bmatrix}$.\n",
    "\n",
    "Nós podemos selecionar vários subconjuntos de elementos dessa matriz, como:\n",
    "- todos os elementos da coluna 3\n",
    "- todos os elementos da linha 2\n",
    "- todos os elementos das duas primeiras colunas\n",
    "- todos os elementos das duas primeiras linhas\n",
    "- apenas os elementos das 2 primeiras linhas e das 2 primeiras colunas\n",
    "- apenas os elementos das 2 últimas linhas e das 4 últimas colunas\n",
    "- apenas os elementos das linhas 2 até 4 e das colunas 4 até 6"
   ]
  },
  {
   "cell_type": "code",
   "execution_count": 5,
   "metadata": {},
   "outputs": [
    {
     "name": "stdout",
     "output_type": "stream",
     "text": [
      "Matriz inteira: \n",
      "[['1a' '1b' '1c' '1d' '1e' '1f' '1g' '1h' '1i']\n",
      " ['2a' '2b' '2c' '2d' '2e' '2f' '2g' '2h' '2i']\n",
      " ['3a' '3b' '3c' '3d' '3e' '3f' '3g' '3h' '3i']\n",
      " ['4a' '4b' '4c' '4d' '4e' '4f' '4g' '4h' '4i']]\n",
      "\n",
      " todos elementos da coluna 3: \n",
      "['1c' '2c' '3c' '4c']\n",
      "\n",
      " Todos os elementos da linha 2: \n",
      "['2a' '2b' '2c' '2d' '2e' '2f' '2g' '2h' '2i']\n",
      "\n",
      " Todos os elementos das 2 primeiras colunas: \n",
      "[['1a' '1b']\n",
      " ['2a' '2b']\n",
      " ['3a' '3b']\n",
      " ['4a' '4b']]\n",
      "\n",
      " Todos os elementos das 2 primeiras linhas: \n",
      "[['1a' '1b' '1c' '1d' '1e' '1f' '1g' '1h' '1i']\n",
      " ['2a' '2b' '2c' '2d' '2e' '2f' '2g' '2h' '2i']]\n",
      "\n",
      " Apenas os elementos das 2 primeiras linhas e duas primeiras colunas:\n",
      "[['1a' '1b']\n",
      " ['2a' '2b']]\n",
      "\n",
      " Apenas os elementos das 2 últimas linhas e das 4 ultimas colunas: \n",
      "[['3f' '3g' '3h' '3i']\n",
      " ['4f' '4g' '4h' '4i']]\n",
      "\n",
      " Apenas os elementos das linhas 2 até 4 e das colunas 4 até 6: \n",
      "[['2d' '2e' '2f']\n",
      " ['3d' '3e' '3f']]\n"
     ]
    }
   ],
   "source": [
    "#criando uma matriz\n",
    "\n",
    "arrayA = np.array([\n",
    "    ['1a','1b','1c','1d','1e','1f','1g','1h','1i'],\n",
    "    ['2a','2b','2c','2d','2e','2f','2g','2h','2i'],\n",
    "    ['3a','3b','3c','3d','3e','3f','3g','3h','3i'],\n",
    "    ['4a','4b','4c','4d','4e','4f','4g','4h','4i']\n",
    "])\n",
    "\n",
    "print('Matriz inteira: ')\n",
    "print(arrayA)\n",
    "\n",
    "print(\"\\n todos elementos da coluna 3: \")\n",
    "print(arrayA[:,2])\n",
    "\n",
    "print(\"\\n Todos os elementos da linha 2: \")\n",
    "print(arrayA[1,:])\n",
    "\n",
    "print(\"\\n Todos os elementos das 2 primeiras colunas: \")\n",
    "print(arrayA[:,0:2])\n",
    "\n",
    "print(\"\\n Todos os elementos das 2 primeiras linhas: \")\n",
    "print(arrayA[0:2,:])\n",
    "\n",
    "print(\"\\n Apenas os elementos das 2 primeiras linhas e duas primeiras colunas:\")\n",
    "print(arrayA[0:2,0:2])\n",
    "\n",
    "print(\"\\n Apenas os elementos das 2 últimas linhas e das 4 ultimas colunas: \")\n",
    "print(arrayA[-2:,-4:])\n",
    "\n",
    "print('\\n Apenas os elementos das linhas 2 até 4 e das colunas 4 até 6: ')\n",
    "print( arrayA[1:3,3:6] )\n"
   ]
  },
  {
   "attachments": {},
   "cell_type": "markdown",
   "metadata": {},
   "source": [
    "## Operações com números\n",
    "\n",
    " - Soma: +\n",
    " - Subtração - \n",
    " - Multiplicação: *\n",
    " - Divisão: /\n",
    " - Resto da divisão: %\n",
    " - Exponenciação: **\n",
    " - Raiz quadrada: use a função *sqrt()* da biblioteca numpy: ```np.sqrt(valor)```"
   ]
  },
  {
   "cell_type": "code",
   "execution_count": 6,
   "metadata": {},
   "outputs": [
    {
     "name": "stdout",
     "output_type": "stream",
     "text": [
      "Soma:  352\n",
      "[10 11 14 19 26 35 46 59 74]\n",
      "[ 0.   0.5  2.   4.5  8.  12.5 18.  24.5 32. ]\n",
      "[0. 1. 2. 3. 4. 5. 6. 7. 8.]\n"
     ]
    }
   ],
   "source": [
    "soma = 154+198\n",
    "print(\"Soma: \",soma)\n",
    "\n",
    "somaVetor = vetor1 + 10\n",
    "divisaoVetor = vetor1/2\n",
    "raiz = np.sqrt(vetor1)\n",
    "\n",
    "print(somaVetor)\n",
    "print(divisaoVetor)\n",
    "print(raiz)"
   ]
  },
  {
   "attachments": {},
   "cell_type": "markdown",
   "metadata": {
    "tags": []
   },
   "source": [
    "## Criando vetores e matrizes de 0 ou 1.\n",
    "\n",
    "Nós também podemos criar vetores e matrizes de valores zero e uma matriz de valores um."
   ]
  },
  {
   "cell_type": "code",
   "execution_count": 7,
   "metadata": {},
   "outputs": [
    {
     "name": "stdout",
     "output_type": "stream",
     "text": [
      "[0. 0. 0. 0. 0. 0. 0. 0. 0. 0.]\n",
      "[1. 1. 1. 1. 1. 1. 1. 1. 1. 1.]\n",
      "\n",
      " Matriz com valores 0:\n"
     ]
    },
    {
     "data": {
      "text/plain": [
       "array([[0., 0., 0., 0., 0., 0., 0., 0., 0., 0.],\n",
       "       [0., 0., 0., 0., 0., 0., 0., 0., 0., 0.]])"
      ]
     },
     "metadata": {},
     "output_type": "display_data"
    },
    {
     "name": "stdout",
     "output_type": "stream",
     "text": [
      "\n",
      " Matriz com valores 1:\n"
     ]
    },
    {
     "data": {
      "text/plain": [
       "array([[1., 1., 1., 1., 1., 1., 1., 1., 1., 1.],\n",
       "       [1., 1., 1., 1., 1., 1., 1., 1., 1., 1.]])"
      ]
     },
     "metadata": {},
     "output_type": "display_data"
    }
   ],
   "source": [
    "vetor2 = np.zeros([10])\n",
    "vetor3 = np.ones([10])\n",
    "\n",
    "print(vetor2)\n",
    "print(vetor3)\n",
    "\n",
    "#cria um array de valores zeros com dimensão 2x10\n",
    "array_zeros = np.zeros([2,10])\n",
    "\n",
    "# cria um array de valores um com dimensão 2x10\n",
    "array_ones = np.ones([2,10])\n",
    "\n",
    "print(\"\\n Matriz com valores 0:\")\n",
    "display(array_zeros)\n",
    "\n",
    "print(\"\\n Matriz com valores 1:\")\n",
    "display(array_ones)\n",
    "\n"
   ]
  },
  {
   "attachments": {},
   "cell_type": "markdown",
   "metadata": {},
   "source": [
    "## Estruturas de decisão\n",
    "\n",
    "Criando operações condicionais: if e else."
   ]
  },
  {
   "cell_type": "code",
   "execution_count": 8,
   "metadata": {},
   "outputs": [
    {
     "name": "stdout",
     "output_type": "stream",
     "text": [
      "[ 0  1  4  9 16 25 36 49 64]\n",
      "Maior que dez\n"
     ]
    }
   ],
   "source": [
    "#verifica se o primeiro elemento do vetor é maior que zero\n",
    "\n",
    "print(vetor1)\n",
    "\n",
    "if vetor1[5] <= 0:\n",
    "    print(\"maior ou igual a zero\")\n",
    "elif vetor1[5] > 0 and vetor1[5] < 10:\n",
    "    print(\"Está entre zero e dez\")\n",
    "else:\n",
    "    print(\"Maior que dez\")"
   ]
  },
  {
   "attachments": {},
   "cell_type": "markdown",
   "metadata": {},
   "source": [
    "## Laço de repetição *for*"
   ]
  },
  {
   "cell_type": "code",
   "execution_count": 9,
   "metadata": {},
   "outputs": [
    {
     "name": "stdout",
     "output_type": "stream",
     "text": [
      "Quadrado de  0 : 0\n",
      "Quadrado de  1 : 1\n",
      "Quadrado de  4 : 16\n",
      "Quadrado de  9 : 81\n",
      "Quadrado de  16 : 256\n",
      "Quadrado de  25 : 625\n",
      "Quadrado de  36 : 1296\n",
      "Quadrado de  49 : 2401\n",
      "Quadrado de  64 : 4096\n"
     ]
    }
   ],
   "source": [
    "tam = len(vetor1)\n",
    "\n",
    "for i in range(tam):\n",
    "    quadrado = vetor1[i]**2\n",
    "    print(\"Quadrado de \", vetor1[i],\":\", quadrado)"
   ]
  },
  {
   "attachments": {},
   "cell_type": "markdown",
   "metadata": {},
   "source": [
    "## Laço de repetição *while*"
   ]
  },
  {
   "cell_type": "code",
   "execution_count": 13,
   "metadata": {},
   "outputs": [
    {
     "name": "stdout",
     "output_type": "stream",
     "text": [
      "Quadrado de  0 : 0\n",
      "Quadrado de  1 : 1\n",
      "Quadrado de  4 : 16\n",
      "Quadrado de  9 : 81\n",
      "Quadrado de  16 : 256\n",
      "Quadrado de  25 : 625\n",
      "Quadrado de  36 : 1296\n",
      "Quadrado de  49 : 2401\n",
      "Quadrado de  64 : 4096\n",
      "Acabou!!!\n"
     ]
    }
   ],
   "source": [
    "i = 0\n",
    "\n",
    "while i<tam:\n",
    "    quadrado = vetor1[i]**2\n",
    "    print(\"Quadrado de \", vetor1[i], \":\", quadrado)\n",
    "    i = i + 1\n",
    "    \n",
    "print(\"Acabou!!!\")"
   ]
  },
  {
   "attachments": {},
   "cell_type": "markdown",
   "metadata": {},
   "source": [
    "## Funções"
   ]
  },
  {
   "cell_type": "code",
   "execution_count": 16,
   "metadata": {},
   "outputs": [
    {
     "name": "stdout",
     "output_type": "stream",
     "text": [
      "9\n",
      "Soma 204\n"
     ]
    }
   ],
   "source": [
    "def getIdx(vetor, idx): #define uma função que tem como parametro o vetor e seu indice \n",
    "    elemento = vetor[idx]\n",
    "    return elemento\n",
    "\n",
    "def soma(vetor): #define uma função com o nome SOMA que soma todos os valores de um vetor\n",
    "    resultado = 0\n",
    "    tam = len(vetor)\n",
    "\n",
    "    for i in range(tam):\n",
    "        resultado = resultado + vetor[i]\n",
    "    \n",
    "    return resultado\n",
    "\n",
    "#chama as função criada\n",
    "\n",
    "valor = getIdx(vetor1,3)\n",
    "print(valor)\n",
    "\n",
    "res = soma(vetor1)\n",
    "print(\"Soma\",res)"
   ]
  },
  {
   "attachments": {},
   "cell_type": "markdown",
   "metadata": {},
   "source": [
    "## Operações básicas com vetores e matrizes\n",
    "\n",
    "Soma e subtração entre vetores e matrizes."
   ]
  },
  {
   "cell_type": "code",
   "execution_count": 23,
   "metadata": {},
   "outputs": [
    {
     "name": "stdout",
     "output_type": "stream",
     "text": [
      "X1: \n",
      " [[1 2 3]\n",
      " [4 5 6]]\n",
      "\n",
      "X2: \n",
      " [[4 5 6]\n",
      " [7 8 9]]\n",
      "\n",
      "X1+X2:\n"
     ]
    },
    {
     "data": {
      "text/plain": [
       "array([[ 5,  7,  9],\n",
       "       [11, 13, 15]])"
      ]
     },
     "metadata": {},
     "output_type": "display_data"
    },
    {
     "name": "stdout",
     "output_type": "stream",
     "text": [
      "\n",
      "X1-X2:\n"
     ]
    },
    {
     "data": {
      "text/plain": [
       "array([[-3, -3, -3],\n",
       "       [-3, -3, -3]])"
      ]
     },
     "metadata": {},
     "output_type": "display_data"
    }
   ],
   "source": [
    "X1 = np.array([\n",
    "    [1,2,3],\n",
    "    [4,5,6]\n",
    "])\n",
    "\n",
    "X2 = np.array([\n",
    "    [4,5,6],\n",
    "    [7,8,9]\n",
    "])\n",
    "\n",
    "print('X1: \\n', X1)\n",
    "print('\\nX2: \\n', X2)\n",
    "\n",
    "print('\\nX1+X2:')\n",
    "display(X1+X2)\n",
    "\n",
    "print('\\nX1-X2:')\n",
    "display(X1-X2)"
   ]
  },
  {
   "attachments": {},
   "cell_type": "markdown",
   "metadata": {},
   "source": [
    "Produto entre duas matrizes.\n",
    "\n",
    "Obs.: para isso ser possível, a quantidade de colunas da primeira, deve ser igual a quantidade de linhas da segunda"
   ]
  },
  {
   "cell_type": "code",
   "execution_count": 25,
   "metadata": {},
   "outputs": [
    {
     "name": "stdout",
     "output_type": "stream",
     "text": [
      "A:\n"
     ]
    },
    {
     "data": {
      "text/plain": [
       "array([[1, 2],\n",
       "       [3, 4],\n",
       "       [5, 6]])"
      ]
     },
     "metadata": {},
     "output_type": "display_data"
    },
    {
     "name": "stdout",
     "output_type": "stream",
     "text": [
      "B:\n"
     ]
    },
    {
     "data": {
      "text/plain": [
       "array([[1, 2, 3, 4],\n",
       "       [5, 6, 7, 8]])"
      ]
     },
     "metadata": {},
     "output_type": "display_data"
    },
    {
     "name": "stdout",
     "output_type": "stream",
     "text": [
      "A*B:\n"
     ]
    },
    {
     "data": {
      "text/plain": [
       "array([[11, 14, 17, 20],\n",
       "       [23, 30, 37, 44],\n",
       "       [35, 46, 57, 68]])"
      ]
     },
     "metadata": {},
     "output_type": "display_data"
    }
   ],
   "source": [
    "A = np.array(([[1,2],[3,4],[5,6]]))\n",
    "B = np.array(([[1,2,3,4],[5,6,7,8]]))\n",
    "\n",
    "print('A:')\n",
    "display(A)\n",
    "\n",
    "print('B:')\n",
    "display(B)\n",
    "\n",
    "print('A*B:')\n",
    "display(np.dot(A,B))"
   ]
  },
  {
   "attachments": {},
   "cell_type": "markdown",
   "metadata": {},
   "source": [
    "Média dos valores de uma matriz."
   ]
  },
  {
   "cell_type": "code",
   "execution_count": 26,
   "metadata": {},
   "outputs": [
    {
     "name": "stdout",
     "output_type": "stream",
     "text": [
      "B: \n"
     ]
    },
    {
     "data": {
      "text/plain": [
       "array([[1, 2, 3, 4],\n",
       "       [5, 6, 7, 8]])"
      ]
     },
     "metadata": {},
     "output_type": "display_data"
    },
    {
     "name": "stdout",
     "output_type": "stream",
     "text": [
      "\n",
      "Média das linhas de B: \n"
     ]
    },
    {
     "data": {
      "text/plain": [
       "array([2.5, 6.5])"
      ]
     },
     "metadata": {},
     "output_type": "display_data"
    },
    {
     "name": "stdout",
     "output_type": "stream",
     "text": [
      "\n",
      "Média das colunas de B: \n"
     ]
    },
    {
     "data": {
      "text/plain": [
       "array([3., 4., 5., 6.])"
      ]
     },
     "metadata": {},
     "output_type": "display_data"
    },
    {
     "name": "stdout",
     "output_type": "stream",
     "text": [
      "\n",
      "Média de todos valores B: \n"
     ]
    },
    {
     "data": {
      "text/plain": [
       "4.5"
      ]
     },
     "metadata": {},
     "output_type": "display_data"
    }
   ],
   "source": [
    "print(\"B: \")\n",
    "display(B)\n",
    "\n",
    "#médias das linhas de B\n",
    "media1 = np.mean(B, axis = 1)\n",
    "print('\\nMédia das linhas de B: ')\n",
    "display(media1)\n",
    "\n",
    "#médias das linhas de B\n",
    "media2 = np.mean(B, axis = 0)\n",
    "print('\\nMédia das colunas de B: ')\n",
    "display(media2)\n",
    "\n",
    "#médias das linhas de B\n",
    "media3 = np.mean(B)\n",
    "print('\\nMédia de todos valores B: ')\n",
    "display(media3)"
   ]
  },
  {
   "attachments": {},
   "cell_type": "markdown",
   "metadata": {},
   "source": [
    "Desvio padrão dos valores de uma matriz."
   ]
  },
  {
   "cell_type": "code",
   "execution_count": 28,
   "metadata": {},
   "outputs": [
    {
     "name": "stdout",
     "output_type": "stream",
     "text": [
      "B: \n"
     ]
    },
    {
     "data": {
      "text/plain": [
       "array([[1, 2, 3, 4],\n",
       "       [5, 6, 7, 8]])"
      ]
     },
     "metadata": {},
     "output_type": "display_data"
    },
    {
     "name": "stdout",
     "output_type": "stream",
     "text": [
      "\n",
      "Desvio padrão das linhas de B: \n"
     ]
    },
    {
     "data": {
      "text/plain": [
       "array([1.29099445, 1.29099445])"
      ]
     },
     "metadata": {},
     "output_type": "display_data"
    },
    {
     "name": "stdout",
     "output_type": "stream",
     "text": [
      "\n",
      "Desvio padrão das colunas de B: \n"
     ]
    },
    {
     "data": {
      "text/plain": [
       "array([2.82842712, 2.82842712, 2.82842712, 2.82842712])"
      ]
     },
     "metadata": {},
     "output_type": "display_data"
    },
    {
     "name": "stdout",
     "output_type": "stream",
     "text": [
      "\n",
      "Desvio padrão de todos os valores de B: \n"
     ]
    },
    {
     "data": {
      "text/plain": [
       "2.449489742783178"
      ]
     },
     "metadata": {},
     "output_type": "display_data"
    }
   ],
   "source": [
    "print(\"B: \")\n",
    "display(B)\n",
    "\n",
    "#desvio padrão das linhas de B\n",
    "std1 = np.std(B, axis = 1, ddof=1)\n",
    "print(\"\\nDesvio padrão das linhas de B: \")\n",
    "display(std1)\n",
    "\n",
    "#desvio padrão das colunas de B\n",
    "std2 = np.std(B, axis = 0, ddof=1)\n",
    "print(\"\\nDesvio padrão das colunas de B: \")\n",
    "display(std2)\n",
    "\n",
    "#desvio padrão de todos os valores de B\n",
    "std3 = np.std(B, ddof=1)\n",
    "print('\\nDesvio padrão de todos os valores de B: ')\n",
    "display(std3)"
   ]
  },
  {
   "attachments": {},
   "cell_type": "markdown",
   "metadata": {},
   "source": [
    "Mediana dos valores de uma matriz"
   ]
  },
  {
   "cell_type": "code",
   "execution_count": 29,
   "metadata": {},
   "outputs": [
    {
     "name": "stdout",
     "output_type": "stream",
     "text": [
      "A: \n"
     ]
    },
    {
     "data": {
      "text/plain": [
       "array([[1, 2],\n",
       "       [3, 4],\n",
       "       [5, 6]])"
      ]
     },
     "metadata": {},
     "output_type": "display_data"
    },
    {
     "name": "stdout",
     "output_type": "stream",
     "text": [
      "\n",
      "Mediana das linhas de A: \n"
     ]
    },
    {
     "data": {
      "text/plain": [
       "array([1.5, 3.5, 5.5])"
      ]
     },
     "metadata": {},
     "output_type": "display_data"
    },
    {
     "name": "stdout",
     "output_type": "stream",
     "text": [
      "\n",
      "Mediana das linhas de A: \n"
     ]
    },
    {
     "data": {
      "text/plain": [
       "array([3., 4.])"
      ]
     },
     "metadata": {},
     "output_type": "display_data"
    },
    {
     "name": "stdout",
     "output_type": "stream",
     "text": [
      "\n",
      "Mediana dos valores de de A: \n"
     ]
    },
    {
     "data": {
      "text/plain": [
       "3.5"
      ]
     },
     "metadata": {},
     "output_type": "display_data"
    }
   ],
   "source": [
    "print(\"A: \")\n",
    "display(A)\n",
    "\n",
    "#mediana das linhas de A\n",
    "mediana1 = np.median(A, axis = 1)\n",
    "print(\"\\nMediana das linhas de A: \")\n",
    "display(mediana1)\n",
    "\n",
    "#mediana das colunas de A\n",
    "mediana2 = np.median(A, axis = 0)\n",
    "print(\"\\nMediana das linhas de A: \")\n",
    "display(mediana2)\n",
    "\n",
    "#mediana de todos os valores de A\n",
    "mediana3 = np.median(A)\n",
    "print(\"\\nMediana dos valores de de A: \")\n",
    "display(mediana3)"
   ]
  },
  {
   "attachments": {},
   "cell_type": "markdown",
   "metadata": {},
   "source": [
    "Outras funções para vetores e matrizes.\n",
    "* `np.min()` &rarr; valor mínimo\n",
    "* `np.max()` &rarr; valor máximo\n",
    "* `np.sort(A)` &rarr; retorna o vetor $A$ ordenado\n",
    "* `np.argsort(A)` &rarr; retorna os índices do vetor $A$ ordenado\n",
    "* `np.var()` &rarr; variância\n",
    "* `np.shape()` &rarr; dimensões da matriz\n",
    "* `np.transpose()` &rarr; transposta da matriz\n",
    "* `np.concatenate(arrays, axis=numero_do_eixo)` &rarr; concatena vetores ou matrizes\n",
    "* `vstack(A,B)` &rarr; empilha verticalmente\n",
    "* `hstack(A,B)` &rarr; empilha horizontalmente\n",
    "* `np.where(A>n)` &rarr; elementos em $A$ maiores que $n$"
   ]
  },
  {
   "attachments": {},
   "cell_type": "markdown",
   "metadata": {},
   "source": [
    "## Exercícios\n",
    "\n",
    "**Ex. 1**. Crie duas matrizes com os nomes $ExA$ e $ExB$ preenchidas com os seguintes valores:\n",
    "\n",
    "$ExA = \\begin{bmatrix}\n",
    "    12 & 9 & 4 & 1 \\\\\n",
    "    11 & 5 & 8 & 1 \\\\\n",
    "    1 & 2 & 3 & 1 \\\\\n",
    "  \\end{bmatrix}\n",
    "$, \n",
    "$\n",
    "ExB = \\begin{bmatrix}\n",
    "    1 & 5 \\\\\n",
    "    1 & 7 \\\\\n",
    "    1 & 9 \\\\\n",
    "    1 & 1 \\\\\n",
    "  \\end{bmatrix}\n",
    "$. Após isso, imprima as duas matrizes."
   ]
  },
  {
   "cell_type": "code",
   "execution_count": 38,
   "metadata": {},
   "outputs": [
    {
     "name": "stdout",
     "output_type": "stream",
     "text": [
      "ExA:\n"
     ]
    },
    {
     "data": {
      "text/plain": [
       "array([[12,  9,  4,  1],\n",
       "       [11,  5,  8,  1],\n",
       "       [ 1,  2,  3,  1]])"
      ]
     },
     "metadata": {},
     "output_type": "display_data"
    },
    {
     "name": "stdout",
     "output_type": "stream",
     "text": [
      "ExB:\n"
     ]
    },
    {
     "data": {
      "text/plain": [
       "array([[1, 5],\n",
       "       [1, 7],\n",
       "       [1, 9],\n",
       "       [1, 1]])"
      ]
     },
     "metadata": {},
     "output_type": "display_data"
    }
   ],
   "source": [
    "ExA = np.array([[12,9,4,1],[11,5,8,1],[1,2,3,1]])\n",
    "print('ExA:')\n",
    "display(ExA)\n",
    "\n",
    "ExB = np.array([[1,5],[1,7],[1,9],[1,1]])\n",
    "print('ExB:')\n",
    "display(ExB)"
   ]
  },
  {
   "attachments": {},
   "cell_type": "markdown",
   "metadata": {},
   "source": [
    "**Ex. 2**. Crie uma matriz $ExC$ usando a seguinte operação: $ExC = ExA \\cdot ExB$. Depois, imprima $ExC$. "
   ]
  },
  {
   "cell_type": "code",
   "execution_count": 39,
   "metadata": {},
   "outputs": [
    {
     "name": "stdout",
     "output_type": "stream",
     "text": [
      "ExC:\n"
     ]
    },
    {
     "data": {
      "text/plain": [
       "array([[ 26, 160],\n",
       "       [ 25, 163],\n",
       "       [  7,  47]])"
      ]
     },
     "metadata": {},
     "output_type": "display_data"
    }
   ],
   "source": [
    "ExC = np.dot(ExA,ExB)\n",
    "print('ExC:')\n",
    "display(ExC)\n"
   ]
  },
  {
   "attachments": {},
   "cell_type": "markdown",
   "metadata": {},
   "source": [
    "**Ex. 3**. Crie uma função que retorne a média e o desvio padrão das linhas de uma matriz e a média e desvio padrão das colunas de uma matriz. Depois teste sua função com a matriz $ExC$."
   ]
  },
  {
   "cell_type": "code",
   "execution_count": 42,
   "metadata": {},
   "outputs": [
    {
     "name": "stdout",
     "output_type": "stream",
     "text": [
      "Medias linhas:  [93. 94. 27.]\n",
      "Medias colunas:  [ 19.33333333 123.33333333]\n",
      "Desvio padrão linhas:  [94.75230868 97.5807358  28.28427125]\n",
      "Desvio padrão colunas:  [10.69267662 66.1236216 ]\n"
     ]
    }
   ],
   "source": [
    "def myFunction(A):\n",
    "    media_colunas = np.mean(A, axis=0)\n",
    "    media_linhas = np.mean(A, axis=1)\n",
    "\n",
    "    std_colunas = np.std(A, axis=0, ddof=1)\n",
    "    std_linhas = np.std(A, axis=1, ddof=1)\n",
    "\n",
    "    return media_colunas, media_linhas, std_colunas, std_linhas\n",
    "\n",
    "\n",
    "media_colunas, media_linhas, std_colunas, std_linhas = myFunction(ExC)\n",
    "\n",
    "print('Medias linhas: ', media_linhas)\n",
    "print('Medias colunas: ', media_colunas)\n",
    "\n",
    "print('Desvio padrão linhas: ', std_linhas)\n",
    "print('Desvio padrão colunas: ', std_colunas)"
   ]
  },
  {
   "attachments": {},
   "cell_type": "markdown",
   "metadata": {},
   "source": [
    "**Ex. 4**. Crie uma matriz $ExD$ com os valores das duas últimas colunas de $ExA$. Depois, calcule a média dos valores de $ExD$."
   ]
  },
  {
   "cell_type": "code",
   "execution_count": 43,
   "metadata": {},
   "outputs": [
    {
     "name": "stdout",
     "output_type": "stream",
     "text": [
      "[[4 1]\n",
      " [8 1]\n",
      " [3 1]]\n",
      "3.0\n"
     ]
    }
   ],
   "source": [
    "ExD = ExA[:,-2:]\n",
    "\n",
    "print(ExD)\n",
    "print(np.mean(ExD))"
   ]
  },
  {
   "attachments": {},
   "cell_type": "markdown",
   "metadata": {},
   "source": [
    "**Ex. 5**. Crie uma matriz $ExE$ com os valores das linhas 1 e 2 e das colunas 1 e 2 de $ExA$."
   ]
  },
  {
   "cell_type": "code",
   "execution_count": 44,
   "metadata": {},
   "outputs": [
    {
     "name": "stdout",
     "output_type": "stream",
     "text": [
      "[[5 8]\n",
      " [2 3]]\n"
     ]
    }
   ],
   "source": [
    "ExE = ExA[1:3,1:3]\n",
    "print(ExE)"
   ]
  },
  {
   "attachments": {},
   "cell_type": "markdown",
   "metadata": {},
   "source": [
    "**Ex. 6**. Crie e imprima uma matriz $ExF$ com 5 linhas e 2 colunas e todos os valores iguais a 0."
   ]
  },
  {
   "cell_type": "code",
   "execution_count": 45,
   "metadata": {},
   "outputs": [
    {
     "name": "stdout",
     "output_type": "stream",
     "text": [
      "[[0. 0.]\n",
      " [0. 0.]\n",
      " [0. 0.]\n",
      " [0. 0.]\n",
      " [0. 0.]]\n"
     ]
    }
   ],
   "source": [
    "ExF = np.zeros([5,2])\n",
    "print(ExF)"
   ]
  },
  {
   "attachments": {},
   "cell_type": "markdown",
   "metadata": {},
   "source": [
    "**Ex. 7**. Crie e imprima uma matriz $ExG$ com 4 linhas e 3 colunas e todos os valores iguais a 1."
   ]
  },
  {
   "cell_type": "code",
   "execution_count": 46,
   "metadata": {},
   "outputs": [
    {
     "name": "stdout",
     "output_type": "stream",
     "text": [
      "[[1. 1. 1.]\n",
      " [1. 1. 1.]\n",
      " [1. 1. 1.]\n",
      " [1. 1. 1.]]\n"
     ]
    }
   ],
   "source": [
    "ExG = np.ones([4,3])\n",
    "print(ExG)"
   ]
  },
  {
   "attachments": {},
   "cell_type": "markdown",
   "metadata": {},
   "source": [
    "**Ex. 8**. Crie uma função que retorne o fatorial de um número. Teste a função que você criou, calculando o fatorial de 8. \n",
    "\n",
    "Fórmula do fatorial: $n! = (1 * 2 * 3 * ... * (n-2) * (n-1) * n)$\n",
    "\n",
    "Obs: é obrigatório usar um laço `for`. \n",
    "\n",
    "Exemplos: \n",
    "* $1! = 1$\n",
    "* $2! = 1*2$\n",
    "* $3! = 1*2*3$\n",
    "* $4! = 1*2*3*4$\n",
    "* $5! = 1*2*3*4*5$"
   ]
  },
  {
   "cell_type": "code",
   "execution_count": 49,
   "metadata": {},
   "outputs": [
    {
     "name": "stdout",
     "output_type": "stream",
     "text": [
      "3628800\n"
     ]
    }
   ],
   "source": [
    "def fatorial(n):\n",
    "    fat = 1\n",
    "    for i in np.arange(1,n+1):\n",
    "        fat = fat*i\n",
    "    \n",
    "    return fat\n",
    "\n",
    "fat = fatorial(10)\n",
    "print(fat)"
   ]
  }
 ],
 "metadata": {
  "kernelspec": {
   "display_name": "Python 3 (ipykernel)",
   "language": "python",
   "name": "python3"
  },
  "language_info": {
   "codemirror_mode": {
    "name": "ipython",
    "version": 3
   },
   "file_extension": ".py",
   "mimetype": "text/x-python",
   "name": "python",
   "nbconvert_exporter": "python",
   "pygments_lexer": "ipython3",
   "version": "3.11.3"
  },
  "vscode": {
   "interpreter": {
    "hash": "d8d3ff3e2b5334ad4397068f2512301b7247a0268b8f631cb00f1cdcbb1f6f82"
   }
  }
 },
 "nbformat": 4,
 "nbformat_minor": 4
}
